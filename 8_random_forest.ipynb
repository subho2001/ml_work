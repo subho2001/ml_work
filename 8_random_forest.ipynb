{
 "cells": [
  {
   "cell_type": "code",
   "execution_count": 1,
   "metadata": {},
   "outputs": [
    {
     "name": "stdout",
     "output_type": "stream",
     "text": [
      "Accuracy: 0.796875\n"
     ]
    }
   ],
   "source": [
    "import numpy as np\n",
    "import pandas as pd\n",
    "from sklearn.metrics import accuracy_score\n",
    "from sklearn.tree import DecisionTreeClassifier\n",
    "from sklearn.model_selection import train_test_split\n",
    "from sklearn.metrics import confusion_matrix\n",
    "\n",
    "class RandomForestClassifier:\n",
    "    def __init__(self, n_estimators=100, max_depth=None, min_samples_split=2, min_samples_leaf=1):\n",
    "        self.n_estimators = n_estimators\n",
    "        self.max_depth = max_depth\n",
    "        self.min_samples_split = min_samples_split\n",
    "        self.min_samples_leaf = min_samples_leaf\n",
    "        self.trees = []\n",
    "\n",
    "    def fit(self, X, y):\n",
    "        for _ in range(self.n_estimators):\n",
    "            bootstrap_indices = np.random.choice(len(X), size=len(X), replace=True)\n",
    "            X_sampled = X.iloc[bootstrap_indices]\n",
    "            y_sampled = y.iloc[bootstrap_indices]\n",
    "\n",
    "            tree = DecisionTreeClassifier(\n",
    "                max_depth=self.max_depth,\n",
    "                min_samples_split=self.min_samples_split,\n",
    "                min_samples_leaf=self.min_samples_leaf,\n",
    "                random_state=42\n",
    "            )\n",
    "            tree.fit(X_sampled, y_sampled)\n",
    "            self.trees.append(tree)\n",
    "\n",
    "    def predict(self, X):\n",
    "        predictions = np.array([tree.predict(X) for tree in self.trees])\n",
    "        return np.round(np.mean(predictions, axis=0))\n",
    "\n",
    "df = pd.read_csv('../dataset/diabetes.csv')\n",
    "X = df.drop(columns=['Outcome'], axis=1)\n",
    "y = df['Outcome']\n",
    "# X_train, X_test, y_train, y_test = train_test_split(X, y, test_size=0.2, random_state=42)\n",
    "n_splits = 6\n",
    "indices = np.arange(len(X))\n",
    "np.random.shuffle(indices)\n",
    "\n",
    "fold_indices = np.array_split(indices, n_splits)\n",
    "\n",
    "\n",
    "for i in range(n_splits):\n",
    "    test_indices = fold_indices[i]\n",
    "    train_indices = np.concatenate(fold_indices[:i] + fold_indices[i+1:])\n",
    "\n",
    "    X_train, X_test = X.iloc[train_indices], X.iloc[test_indices]\n",
    "    y_train, y_test = y.iloc[train_indices], y.iloc[test_indices]\n",
    "\n",
    "n_trees = 100\n",
    "\n",
    "random_forest = RandomForestClassifier(n_estimators=n_trees)\n",
    "\n",
    "random_forest.fit(X_train, y_train)\n",
    "\n",
    "rf_predictions = random_forest.predict(X_test)\n",
    "\n",
    "accuracy = accuracy_score(y_test, rf_predictions)\n",
    "print(\"Accuracy:\", accuracy)"
   ]
  },
  {
   "cell_type": "code",
   "execution_count": 2,
   "metadata": {},
   "outputs": [
    {
     "name": "stdout",
     "output_type": "stream",
     "text": [
      "0.796875\n"
     ]
    }
   ],
   "source": [
    "cm = confusion_matrix(y_test, rf_predictions)\n",
    "tp = cm[0,0]\n",
    "fp = cm[0,1]\n",
    "fn = cm[1,0]\n",
    "tn = cm[1,1]\n",
    "accuracy = (tp+tn)/(tp+fp+fn+tn)\n",
    "print(accuracy)"
   ]
  }
 ],
 "metadata": {
  "kernelspec": {
   "display_name": "Python 3",
   "language": "python",
   "name": "python3"
  },
  "language_info": {
   "codemirror_mode": {
    "name": "ipython",
    "version": 3
   },
   "file_extension": ".py",
   "mimetype": "text/x-python",
   "name": "python",
   "nbconvert_exporter": "python",
   "pygments_lexer": "ipython3",
   "version": "3.11.4"
  }
 },
 "nbformat": 4,
 "nbformat_minor": 2
}
