{
 "cells": [
  {
   "cell_type": "code",
   "execution_count": 5,
   "metadata": {},
   "outputs": [
    {
     "name": "stdout",
     "output_type": "stream",
     "text": [
      "Logistic Regression Accuracy: 84.53%\n"
     ]
    }
   ],
   "source": [
    "import numpy as np\n",
    "import pandas as pd\n",
    "from sklearn.model_selection import train_test_split\n",
    "\n",
    "dataframe = pd.read_csv('../dataset/Heart_Disease_Ditection.csv')\n",
    "X = dataframe.iloc[:, :-1]\n",
    "y = dataframe.iloc[:, -1]\n",
    "\n",
    "# X_train, X_test, y_train, y_test = train_test_split(X, y, test_size=0.2, random_state=42)\n",
    "\n",
    "n_splits = 5\n",
    "indices = np.arange(len(X))\n",
    "np.random.shuffle(indices)\n",
    "\n",
    "fold_indices = np.array_split(indices, n_splits)\n",
    "\n",
    "\n",
    "for i in range(n_splits):\n",
    "    test_indices = fold_indices[i]\n",
    "    train_indices = np.concatenate(fold_indices[:i] + fold_indices[i+1:])\n",
    "\n",
    "    X_train, X_test = X.iloc[train_indices], X.iloc[test_indices]\n",
    "    y_train, y_test = y.iloc[train_indices], y.iloc[test_indices]\n",
    "\n",
    "def sigmoid(z):\n",
    "    return 1 / (1 + np.exp(-z))\n",
    "\n",
    "def logistic_regression(X, y, learning_rate=0.01, num_iterations=1000):\n",
    "    num_samples, num_features = X.shape\n",
    "    weights = np.zeros(num_features)\n",
    "    bias = 0\n",
    "\n",
    "    for _ in range(num_iterations):\n",
    "        model = np.dot(X, weights) + bias\n",
    "        predictions = sigmoid(model)\n",
    "\n",
    "        dw = (1 / num_samples) * np.dot(X.T, (predictions - y))\n",
    "        db = (1 / num_samples) * np.sum(predictions - y)\n",
    "\n",
    "        weights -= learning_rate * dw\n",
    "        bias -= learning_rate * db\n",
    "\n",
    "    return weights, bias\n",
    "\n",
    "def predict(X, weights, bias):\n",
    "    model = np.dot(X, weights) + bias\n",
    "    predictions = sigmoid(model)\n",
    "    predictions_cls = [1 if i > 0.5 else 0 for i in predictions]\n",
    "    return predictions_cls\n",
    "\n",
    "learning_rate = 0.1\n",
    "num_iterations = 5000\n",
    "weights, bias = logistic_regression(X_train, y_train, learning_rate, num_iterations)\n",
    "\n",
    "predictions = predict(X_test, weights, bias)\n",
    "accuracy = np.mean(predictions == y_test) * 100\n",
    "print(\"Logistic Regression Accuracy: {:.2f}%\".format(accuracy))"
   ]
  },
  {
   "cell_type": "code",
   "execution_count": 6,
   "metadata": {},
   "outputs": [
    {
     "name": "stdout",
     "output_type": "stream",
     "text": [
      "0.8453364817001181\n"
     ]
    }
   ],
   "source": [
    "from sklearn.metrics import confusion_matrix\n",
    "predictions_test=predict(X_test, weights, bias)\n",
    "cm = confusion_matrix(y_test, predictions_test)\n",
    "tp = cm[0, 0]\n",
    "fp = cm[0, 1]\n",
    "fn = cm[1, 0]\n",
    "tn = cm[1, 1]\n",
    "accuracy=(tp+tn)/(tp+fp+fn+tn)\n",
    "print(accuracy)"
   ]
  }
 ],
 "metadata": {
  "kernelspec": {
   "display_name": "Python 3",
   "language": "python",
   "name": "python3"
  },
  "language_info": {
   "codemirror_mode": {
    "name": "ipython",
    "version": 3
   },
   "file_extension": ".py",
   "mimetype": "text/x-python",
   "name": "python",
   "nbconvert_exporter": "python",
   "pygments_lexer": "ipython3",
   "version": "3.11.4"
  }
 },
 "nbformat": 4,
 "nbformat_minor": 2
}
