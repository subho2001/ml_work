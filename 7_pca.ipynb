{
 "cells": [
  {
   "cell_type": "code",
   "execution_count": 1,
   "metadata": {},
   "outputs": [
    {
     "name": "stdout",
     "output_type": "stream",
     "text": [
      "Eigen Values: \n",
      "[2.09711056 1.73346726 1.03097228 0.87667054 0.76333832 0.68351839\n",
      " 0.42036353 0.40498938]\n",
      "principal component: \n",
      "[[-0.1284321   0.59378583]\n",
      " [-0.39308257  0.17402908]\n",
      " [-0.36000261  0.18389207]\n",
      " [-0.43982428 -0.33196534]\n",
      " [-0.43502617 -0.25078106]\n",
      " [-0.45194134 -0.1009598 ]\n",
      " [-0.27061144 -0.122069  ]\n",
      " [-0.19802707  0.62058853]]\n"
     ]
    }
   ],
   "source": [
    "import numpy as np\n",
    "import matplotlib.pyplot as plt\n",
    "from sklearn.preprocessing import StandardScaler\n",
    "import pandas as pd\n",
    "\n",
    "df = pd.read_csv(\"../dataset/diabetes.csv\")\n",
    "X = df.iloc[:, :-1]\n",
    "y = df.iloc[:, -1]\n",
    "\n",
    "scaler = StandardScaler()\n",
    "X_scaled = scaler.fit_transform(X)\n",
    "\n",
    "cov_matrix = np.cov(X_scaled, rowvar=False)\n",
    "\n",
    "eigenvalues, eigenvectors = np.linalg.eigh(cov_matrix)\n",
    "\n",
    "sorted_indices = np.argsort(eigenvalues)[::-1]\n",
    "eigenvalues = eigenvalues[sorted_indices]\n",
    "eigenvectors = eigenvectors[:, sorted_indices]\n",
    "\n",
    "num_components = 2\n",
    "principal_components = eigenvectors[:, :num_components]\n",
    "\n",
    "X_pca =np.dot(X_scaled,principal_components)\n",
    "\n",
    "X_pca = X_scaled.dot(principal_components)\n",
    "\n",
    "print(\"Eigen Values: \")\n",
    "print(eigenvalues)\n",
    "print(\"principal component: \")\n",
    "print(principal_components)"
   ]
  }
 ],
 "metadata": {
  "kernelspec": {
   "display_name": "Python 3",
   "language": "python",
   "name": "python3"
  },
  "language_info": {
   "codemirror_mode": {
    "name": "ipython",
    "version": 3
   },
   "file_extension": ".py",
   "mimetype": "text/x-python",
   "name": "python",
   "nbconvert_exporter": "python",
   "pygments_lexer": "ipython3",
   "version": "3.11.4"
  }
 },
 "nbformat": 4,
 "nbformat_minor": 2
}
