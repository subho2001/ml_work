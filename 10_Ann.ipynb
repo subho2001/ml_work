{
 "cells": [
  {
   "cell_type": "code",
   "execution_count": 5,
   "metadata": {},
   "outputs": [
    {
     "name": "stdout",
     "output_type": "stream",
     "text": [
      "Final weights: [1 1]\n",
      "Final bias: -1\n"
     ]
    }
   ],
   "source": [
    "import numpy as np\n",
    "\n",
    "X = np.array([[1, 1], [1, -1], [-1, 1], [-1, -1]])\n",
    "\n",
    "T = np.array([1, -1, -1, -1])\n",
    "\n",
    "w = np.array([0, 0])\n",
    "b = 0\n",
    "lr = 1\n",
    "\n",
    "def activation(yin):\n",
    "    if yin > 0:\n",
    "        return 1\n",
    "    elif yin == 0:\n",
    "        return 0\n",
    "    else:\n",
    "        return -1\n",
    "\n",
    "epochs = 100\n",
    "for epoch in range(epochs):\n",
    "    for i in range(len(X)):\n",
    "        yin = b + np.dot(X[i], w)\n",
    "        y = activation(yin)\n",
    "        if y != T[i]:\n",
    "            w[0] += lr * T[i] * X[i][0]\n",
    "            w[1] += lr * T[i] * X[i][1]\n",
    "            b += lr * T[i]\n",
    "\n",
    "print(\"Final weights:\", w)\n",
    "print(\"Final bias:\", b)"
   ]
  },
  {
   "cell_type": "code",
   "execution_count": 6,
   "metadata": {},
   "outputs": [
    {
     "name": "stdout",
     "output_type": "stream",
     "text": [
      "Input (1, 1): Predicted Output: 1\n",
      "Input (1, -1): Predicted Output: -1\n",
      "Input (-1, 1): Predicted Output: -1\n",
      "Input (-1, -1): Predicted Output: -1\n"
     ]
    }
   ],
   "source": [
    "def predict(x1, x2):\n",
    "    yin = b + np.dot([x1, x2], w)\n",
    "    return activation(yin)\n",
    "\n",
    "# Test the predict function\n",
    "print(\"Input (1, 1): Predicted Output:\", predict(1, 1))\n",
    "print(\"Input (1, -1): Predicted Output:\", predict(1, -1))\n",
    "print(\"Input (-1, 1): Predicted Output:\", predict(-1, 1))\n",
    "print(\"Input (-1, -1): Predicted Output:\", predict(-1, -1))"
   ]
  }
 ],
 "metadata": {
  "kernelspec": {
   "display_name": "Python 3",
   "language": "python",
   "name": "python3"
  },
  "language_info": {
   "codemirror_mode": {
    "name": "ipython",
    "version": 3
   },
   "file_extension": ".py",
   "mimetype": "text/x-python",
   "name": "python",
   "nbconvert_exporter": "python",
   "pygments_lexer": "ipython3",
   "version": "3.11.4"
  }
 },
 "nbformat": 4,
 "nbformat_minor": 2
}
