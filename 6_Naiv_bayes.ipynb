{
 "cells": [
  {
   "cell_type": "code",
   "execution_count": 1,
   "metadata": {},
   "outputs": [
    {
     "name": "stdout",
     "output_type": "stream",
     "text": [
      "Accuracy: 50.00%\n"
     ]
    }
   ],
   "source": [
    "import pandas as pd\n",
    "import numpy as np\n",
    "\n",
    "from sklearn.model_selection import train_test_split\n",
    "from sklearn.metrics import accuracy_score\n",
    "from sklearn.metrics import confusion_matrix\n",
    "\n",
    "df = pd.read_csv('../dataset/play_tennis.csv')\n",
    "\n",
    "def train_naive_bayes(data, target):\n",
    "    class_probabilities = {}\n",
    "    feature_probabilities = {}\n",
    "\n",
    "    total_samples = len(data)\n",
    "\n",
    "    for class_label, class_count in data[target].value_counts().items():\n",
    "        class_probabilities[class_label] = class_count / total_samples\n",
    "        class_data = data[data[target] == class_label]\n",
    "\n",
    "        for feature in data.columns[:-1]: \n",
    "            feature_counts = class_data[feature].value_counts()\n",
    "\n",
    "            for value, count in feature_counts.items():\n",
    "                feature_probabilities.setdefault(class_label, {}).setdefault(feature, {})[value] = count / class_count\n",
    "\n",
    "    return class_probabilities, feature_probabilities\n",
    "\n",
    "def predict_naive_bayes(sample, class_probabilities, feature_probabilities):\n",
    "    predictions = {}\n",
    "\n",
    "    for class_label, class_probability in class_probabilities.items():\n",
    "        likelihood = 1.0\n",
    "\n",
    "        for feature, value in sample.items():\n",
    "            if feature != target:\n",
    "                likelihood *= feature_probabilities.get(class_label, {}).get(feature, {}).get(value, 0)\n",
    "\n",
    "        predictions[class_label] = class_probability * likelihood\n",
    "\n",
    "    return max(predictions, key=predictions.get)\n",
    "\n",
    "target = 'play'\n",
    "X = df.drop(target, axis=1)\n",
    "y = df[target]\n",
    "\n",
    "# X_train, X_test, y_train, y_test = train_test_split(X, y, test_size=0.2, random_state=42)\n",
    "n_splits = 3\n",
    "indices = np.arange(len(X))\n",
    "np.random.shuffle(indices)\n",
    "\n",
    "fold_indices = np.array_split(indices, n_splits)\n",
    "\n",
    "\n",
    "for i in range(n_splits):\n",
    "    test_indices = fold_indices[i]\n",
    "    train_indices = np.concatenate(fold_indices[:i] + fold_indices[i+1:])\n",
    "\n",
    "    X_train, X_test = X.iloc[train_indices], X.iloc[test_indices]\n",
    "    y_train, y_test = y.iloc[train_indices], y.iloc[test_indices]\n",
    "\n",
    "class_probabilities, feature_probabilities = train_naive_bayes(pd.concat([X_train, y_train], axis=1), target)\n",
    "\n",
    "y_pred = X_test.apply(lambda sample: predict_naive_bayes(sample, class_probabilities, feature_probabilities), axis=1)\n",
    "\n",
    "accuracy = accuracy_score(y_test, y_pred)\n",
    "print(f\"Accuracy: {accuracy:.2%}\")"
   ]
  },
  {
   "cell_type": "code",
   "execution_count": 2,
   "metadata": {},
   "outputs": [
    {
     "name": "stdout",
     "output_type": "stream",
     "text": [
      "0.5\n"
     ]
    }
   ],
   "source": [
    "cm = confusion_matrix(y_test, y_pred)\n",
    "tp = cm[0,0]\n",
    "fp = cm[0,1]\n",
    "fn = cm[1,0]\n",
    "tn = cm[1,1]\n",
    "accuracy = (tp+tn)/(tp+fp+fn+tn)\n",
    "print(accuracy)"
   ]
  }
 ],
 "metadata": {
  "kernelspec": {
   "display_name": "Python 3",
   "language": "python",
   "name": "python3"
  },
  "language_info": {
   "codemirror_mode": {
    "name": "ipython",
    "version": 3
   },
   "file_extension": ".py",
   "mimetype": "text/x-python",
   "name": "python",
   "nbconvert_exporter": "python",
   "pygments_lexer": "ipython3",
   "version": "3.11.4"
  }
 },
 "nbformat": 4,
 "nbformat_minor": 2
}
