{
 "cells": [
  {
   "cell_type": "code",
   "execution_count": 1,
   "metadata": {},
   "outputs": [
    {
     "name": "stdout",
     "output_type": "stream",
     "text": [
      "Slope(m):  9209.88235294118\n",
      "Intercept(b) 27299.4588235294\n",
      "Predict value:  115714.32941176472\n"
     ]
    }
   ],
   "source": [
    "import numpy as np\n",
    "import pandas as pd\n",
    "from sklearn.model_selection import train_test_split\n",
    "df = pd.read_csv(\"../dataset/Salary.csv\")\n",
    "X = df[\"Year of Experience\"].values\n",
    "y = df[\"Salary\"].str.replace(',', '').astype(int).values\n",
    "\n",
    "# X_train, X_test, y_train, y_test = train_test_split(X, y, test_size=0.2, random_state=42)\n",
    "\n",
    "n_splits = 5\n",
    "indices = np.arange(len(X))\n",
    "np.random.shuffle(indices)\n",
    "\n",
    "fold_indices = np.array_split(indices, n_splits)\n",
    "\n",
    "\n",
    "for i in range(n_splits):\n",
    "    test_indices = fold_indices[i]\n",
    "    train_indices = np.concatenate(fold_indices[:i] + fold_indices[i+1:])\n",
    "\n",
    "    X_train, X_test = X[train_indices], X[test_indices]\n",
    "    y_train, y_test = y[train_indices], y[test_indices]\n",
    "\n",
    "def linear_regression(X, y):\n",
    "    n=0\n",
    "    d=0\n",
    "    m=0\n",
    "    b=0\n",
    "    for i in range(X.shape[0]):\n",
    "        n = n+ ((X[i]-X.mean()) * (y[i]- y.mean()))\n",
    "        d = d+ (X[i]-X.mean())**2\n",
    "        m = n/d\n",
    "        b = y.mean() - (m*X.mean())\n",
    "        return m,b\n",
    "m,b = linear_regression(X_train, y_train)\n",
    "def predict(X, m, b):\n",
    "    return m*X+b\n",
    "print(\"Slope(m): \", m)\n",
    "print(\"Intercept(b)\", b)\n",
    "print(\"Predict value: \", predict(X_test[0], m, b))"
   ]
  }
 ],
 "metadata": {
  "kernelspec": {
   "display_name": "Python 3",
   "language": "python",
   "name": "python3"
  },
  "language_info": {
   "codemirror_mode": {
    "name": "ipython",
    "version": 3
   },
   "file_extension": ".py",
   "mimetype": "text/x-python",
   "name": "python",
   "nbconvert_exporter": "python",
   "pygments_lexer": "ipython3",
   "version": "3.11.4"
  }
 },
 "nbformat": 4,
 "nbformat_minor": 2
}
